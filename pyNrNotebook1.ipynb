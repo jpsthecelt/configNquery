{
 "cells": [
  {
   "cell_type": "code",
   "execution_count": 6,
   "metadata": {
    "ExecuteTime": {
     "end_time": "2018-07-16T05:07:12.344542Z",
     "start_time": "2018-07-16T05:06:36.670Z"
    }
   },
   "outputs": [
    {
     "name": "stderr",
     "output_type": "stream",
     "text": [
      "Updating HTML index of packages in '.Library'\n",
      "Making 'packages.html' ... done\n"
     ]
    }
   ],
   "source": [
    "install.packages('reticulate')"
   ]
  },
  {
   "cell_type": "code",
   "execution_count": 7,
   "metadata": {
    "ExecuteTime": {
     "end_time": "2018-07-16T05:07:41.862778Z",
     "start_time": "2018-07-16T05:07:41.162Z"
    }
   },
   "outputs": [],
   "source": [
    "library(\"reticulate\")"
   ]
  },
  {
   "cell_type": "code",
   "execution_count": 10,
   "metadata": {
    "ExecuteTime": {
     "end_time": "2018-07-16T05:12:24.447423Z",
     "start_time": "2018-07-16T05:12:24.367Z"
    }
   },
   "outputs": [
    {
     "data": {
      "text/html": [
       "<ol class=list-inline>\n",
       "\t<li>'configNquery.ipynb'</li>\n",
       "\t<li>'configNquery.py'</li>\n",
       "\t<li>'configNqueryCmdline.py'</li>\n",
       "\t<li>'credentials.json'</li>\n",
       "\t<li>'readme.md'</li>\n",
       "\t<li>'rIEMifViaRest.py'</li>\n",
       "\t<li>'Untitled.ipynb'</li>\n",
       "</ol>\n"
      ],
      "text/latex": [
       "\\begin{enumerate*}\n",
       "\\item 'configNquery.ipynb'\n",
       "\\item 'configNquery.py'\n",
       "\\item 'configNqueryCmdline.py'\n",
       "\\item 'credentials.json'\n",
       "\\item 'readme.md'\n",
       "\\item 'rIEMifViaRest.py'\n",
       "\\item 'Untitled.ipynb'\n",
       "\\end{enumerate*}\n"
      ],
      "text/markdown": [
       "1. 'configNquery.ipynb'\n",
       "2. 'configNquery.py'\n",
       "3. 'configNqueryCmdline.py'\n",
       "4. 'credentials.json'\n",
       "5. 'readme.md'\n",
       "6. 'rIEMifViaRest.py'\n",
       "7. 'Untitled.ipynb'\n",
       "\n",
       "\n"
      ],
      "text/plain": [
       "[1] \"configNquery.ipynb\"     \"configNquery.py\"        \"configNqueryCmdline.py\"\n",
       "[4] \"credentials.json\"       \"readme.md\"              \"rIEMifViaRest.py\"      \n",
       "[7] \"Untitled.ipynb\"        "
      ]
     },
     "metadata": {},
     "output_type": "display_data"
    }
   ],
   "source": [
    "list.files()"
   ]
  },
  {
   "cell_type": "code",
   "execution_count": 25,
   "metadata": {
    "ExecuteTime": {
     "end_time": "2018-07-16T14:41:50.554089Z",
     "start_time": "2018-07-16T14:41:50.503Z"
    }
   },
   "outputs": [
    {
     "name": "stdout",
     "output_type": "stream",
     "text": [
      "[1] \"../credentials.json\"\n"
     ]
    }
   ],
   "source": [
    "print(rCfg)"
   ]
  },
  {
   "cell_type": "code",
   "execution_count": 33,
   "metadata": {
    "ExecuteTime": {
     "end_time": "2018-07-16T14:44:37.940682Z",
     "start_time": "2018-07-16T14:44:37.881Z"
    }
   },
   "outputs": [
    {
     "data": {
      "text/html": [
       "<ol class=list-inline>\n",
       "\t<li>'.DS_Store'</li>\n",
       "\t<li>'.git'</li>\n",
       "\t<li>'.idea'</li>\n",
       "\t<li>'.ipynb_checkpoints'</li>\n",
       "\t<li>'baseline_template.bes'</li>\n",
       "\t<li>'baselineActionReport.bes'</li>\n",
       "\t<li>'bfClientSetting'</li>\n",
       "\t<li>'completedBaseline.bes'</li>\n",
       "\t<li>'configNquery'</li>\n",
       "\t<li>'createComputerGroup.py'</li>\n",
       "\t<li>'createComputerGroup2.py'</li>\n",
       "\t<li>'credentials.json'</li>\n",
       "\t<li>'cycleGather.py'</li>\n",
       "\t<li>'cycleGather.xml'</li>\n",
       "\t<li>'doc'</li>\n",
       "\t<li>'executeActionList4IEM.py'</li>\n",
       "\t<li>'file.xml'</li>\n",
       "\t<li>'fixedFixlets.txt'</li>\n",
       "\t<li>'getAssetsNCheckinTime.py'</li>\n",
       "\t<li>'getFixlets2DictUrllib3.py'</li>\n",
       "\t<li>'getFixletsRest.py'</li>\n",
       "\t<li>'getFixletsRest2File.py'</li>\n",
       "\t<li>'getFixletsRest2File2.py'</li>\n",
       "\t<li>'getFixletsRestAdonix.py'</li>\n",
       "\t<li>'getFixletsRestAdonixUrllib.py'</li>\n",
       "\t<li>'getFixletsRestGrass.py'</li>\n",
       "\t<li>'Grasskeet-CriticalVulns-baseline.bes'</li>\n",
       "\t<li>'importTweedleDeeFixlet.py'</li>\n",
       "\t<li>'importTweedleDeeFixlet3.py'</li>\n",
       "\t<li>'invokeBesProvisioning.xml'</li>\n",
       "\t<li>'InvokeFixletRestViaPython.docx'</li>\n",
       "\t<li>'InvokeFixletRestViaPython.pdf'</li>\n",
       "\t<li>'InvokeFixletRestViaPython2.pdf'</li>\n",
       "\t<li>'Li3000.txt'</li>\n",
       "\t<li>'MasterSite_FixletA.bes'</li>\n",
       "\t<li>'MasterSite_FixletB.bes'</li>\n",
       "\t<li>'MS11-092_ Vulnerability in Windows Media Could Allow Remote Code Execution - Windows 7 Gold_SP1 (x64).bes'</li>\n",
       "\t<li>'multiActionRestRequest.txt'</li>\n",
       "\t<li>'namesXML.txt'</li>\n",
       "\t<li>'nHTTP.rb'</li>\n",
       "\t<li>'origTemRest.py'</li>\n",
       "\t<li>'OtherImportedLibraryStuff'</li>\n",
       "\t<li>'postExample.txt'</li>\n",
       "\t<li>'protoComputerGroup.xml'</li>\n",
       "\t<li>'raw_group.txt'</li>\n",
       "\t<li>'readConfigFmR'</li>\n",
       "\t<li>'readFile2String.py'</li>\n",
       "\t<li>'readFixletsIntoDictFormatNdisplay.py'</li>\n",
       "\t<li>'README.md'</li>\n",
       "\t<li>'restSnippet.py'</li>\n",
       "\t<li>'sampleComputerGroup.bes'</li>\n",
       "\t<li>'sampleComputerGroup.xml'</li>\n",
       "\t<li>'SCAexamples'</li>\n",
       "\t<li>'ServerAutomationExamples'</li>\n",
       "\t<li>'SpybotTasks.bes'</li>\n",
       "\t<li>'SpybotTasks.xml'</li>\n",
       "\t<li>'startBesGather.xml'</li>\n",
       "\t<li>'Stop &amp; Start BESGather.bes'</li>\n",
       "\t<li>'Stop BesGather service.bes'</li>\n",
       "\t<li>'stopBesGather.txt'</li>\n",
       "\t<li>'stopBesGather.xml'</li>\n",
       "\t<li>'stopGather.py'</li>\n",
       "\t<li>'SUA-InventoryExamples'</li>\n",
       "\t<li>'target_computer_group.txt'</li>\n",
       "\t<li>'temPostActionViaRest.py'</li>\n",
       "\t<li>'temPostInvokeProvisioning.py'</li>\n",
       "\t<li>'temPostInvokeProvisioning2.py'</li>\n",
       "\t<li>'testPostGroup.xml'</li>\n",
       "\t<li>'testPostParameter.py'</li>\n",
       "\t<li>'testPostParameter.xml'</li>\n",
       "\t<li>'tokenFile.txt'</li>\n",
       "\t<li>'TweedleDee.bes'</li>\n",
       "\t<li>'Untitled.ipynb'</li>\n",
       "</ol>\n"
      ],
      "text/latex": [
       "\\begin{enumerate*}\n",
       "\\item '.DS\\_Store'\n",
       "\\item '.git'\n",
       "\\item '.idea'\n",
       "\\item '.ipynb\\_checkpoints'\n",
       "\\item 'baseline\\_template.bes'\n",
       "\\item 'baselineActionReport.bes'\n",
       "\\item 'bfClientSetting'\n",
       "\\item 'completedBaseline.bes'\n",
       "\\item 'configNquery'\n",
       "\\item 'createComputerGroup.py'\n",
       "\\item 'createComputerGroup2.py'\n",
       "\\item 'credentials.json'\n",
       "\\item 'cycleGather.py'\n",
       "\\item 'cycleGather.xml'\n",
       "\\item 'doc'\n",
       "\\item 'executeActionList4IEM.py'\n",
       "\\item 'file.xml'\n",
       "\\item 'fixedFixlets.txt'\n",
       "\\item 'getAssetsNCheckinTime.py'\n",
       "\\item 'getFixlets2DictUrllib3.py'\n",
       "\\item 'getFixletsRest.py'\n",
       "\\item 'getFixletsRest2File.py'\n",
       "\\item 'getFixletsRest2File2.py'\n",
       "\\item 'getFixletsRestAdonix.py'\n",
       "\\item 'getFixletsRestAdonixUrllib.py'\n",
       "\\item 'getFixletsRestGrass.py'\n",
       "\\item 'Grasskeet-CriticalVulns-baseline.bes'\n",
       "\\item 'importTweedleDeeFixlet.py'\n",
       "\\item 'importTweedleDeeFixlet3.py'\n",
       "\\item 'invokeBesProvisioning.xml'\n",
       "\\item 'InvokeFixletRestViaPython.docx'\n",
       "\\item 'InvokeFixletRestViaPython.pdf'\n",
       "\\item 'InvokeFixletRestViaPython2.pdf'\n",
       "\\item 'Li3000.txt'\n",
       "\\item 'MasterSite\\_FixletA.bes'\n",
       "\\item 'MasterSite\\_FixletB.bes'\n",
       "\\item 'MS11-092\\_ Vulnerability in Windows Media Could Allow Remote Code Execution - Windows 7 Gold\\_SP1 (x64).bes'\n",
       "\\item 'multiActionRestRequest.txt'\n",
       "\\item 'namesXML.txt'\n",
       "\\item 'nHTTP.rb'\n",
       "\\item 'origTemRest.py'\n",
       "\\item 'OtherImportedLibraryStuff'\n",
       "\\item 'postExample.txt'\n",
       "\\item 'protoComputerGroup.xml'\n",
       "\\item 'raw\\_group.txt'\n",
       "\\item 'readConfigFmR'\n",
       "\\item 'readFile2String.py'\n",
       "\\item 'readFixletsIntoDictFormatNdisplay.py'\n",
       "\\item 'README.md'\n",
       "\\item 'restSnippet.py'\n",
       "\\item 'sampleComputerGroup.bes'\n",
       "\\item 'sampleComputerGroup.xml'\n",
       "\\item 'SCAexamples'\n",
       "\\item 'ServerAutomationExamples'\n",
       "\\item 'SpybotTasks.bes'\n",
       "\\item 'SpybotTasks.xml'\n",
       "\\item 'startBesGather.xml'\n",
       "\\item 'Stop \\& Start BESGather.bes'\n",
       "\\item 'Stop BesGather service.bes'\n",
       "\\item 'stopBesGather.txt'\n",
       "\\item 'stopBesGather.xml'\n",
       "\\item 'stopGather.py'\n",
       "\\item 'SUA-InventoryExamples'\n",
       "\\item 'target\\_computer\\_group.txt'\n",
       "\\item 'temPostActionViaRest.py'\n",
       "\\item 'temPostInvokeProvisioning.py'\n",
       "\\item 'temPostInvokeProvisioning2.py'\n",
       "\\item 'testPostGroup.xml'\n",
       "\\item 'testPostParameter.py'\n",
       "\\item 'testPostParameter.xml'\n",
       "\\item 'tokenFile.txt'\n",
       "\\item 'TweedleDee.bes'\n",
       "\\item 'Untitled.ipynb'\n",
       "\\end{enumerate*}\n"
      ],
      "text/markdown": [
       "1. '.DS_Store'\n",
       "2. '.git'\n",
       "3. '.idea'\n",
       "4. '.ipynb_checkpoints'\n",
       "5. 'baseline_template.bes'\n",
       "6. 'baselineActionReport.bes'\n",
       "7. 'bfClientSetting'\n",
       "8. 'completedBaseline.bes'\n",
       "9. 'configNquery'\n",
       "10. 'createComputerGroup.py'\n",
       "11. 'createComputerGroup2.py'\n",
       "12. 'credentials.json'\n",
       "13. 'cycleGather.py'\n",
       "14. 'cycleGather.xml'\n",
       "15. 'doc'\n",
       "16. 'executeActionList4IEM.py'\n",
       "17. 'file.xml'\n",
       "18. 'fixedFixlets.txt'\n",
       "19. 'getAssetsNCheckinTime.py'\n",
       "20. 'getFixlets2DictUrllib3.py'\n",
       "21. 'getFixletsRest.py'\n",
       "22. 'getFixletsRest2File.py'\n",
       "23. 'getFixletsRest2File2.py'\n",
       "24. 'getFixletsRestAdonix.py'\n",
       "25. 'getFixletsRestAdonixUrllib.py'\n",
       "26. 'getFixletsRestGrass.py'\n",
       "27. 'Grasskeet-CriticalVulns-baseline.bes'\n",
       "28. 'importTweedleDeeFixlet.py'\n",
       "29. 'importTweedleDeeFixlet3.py'\n",
       "30. 'invokeBesProvisioning.xml'\n",
       "31. 'InvokeFixletRestViaPython.docx'\n",
       "32. 'InvokeFixletRestViaPython.pdf'\n",
       "33. 'InvokeFixletRestViaPython2.pdf'\n",
       "34. 'Li3000.txt'\n",
       "35. 'MasterSite_FixletA.bes'\n",
       "36. 'MasterSite_FixletB.bes'\n",
       "37. 'MS11-092_ Vulnerability in Windows Media Could Allow Remote Code Execution - Windows 7 Gold_SP1 (x64).bes'\n",
       "38. 'multiActionRestRequest.txt'\n",
       "39. 'namesXML.txt'\n",
       "40. 'nHTTP.rb'\n",
       "41. 'origTemRest.py'\n",
       "42. 'OtherImportedLibraryStuff'\n",
       "43. 'postExample.txt'\n",
       "44. 'protoComputerGroup.xml'\n",
       "45. 'raw_group.txt'\n",
       "46. 'readConfigFmR'\n",
       "47. 'readFile2String.py'\n",
       "48. 'readFixletsIntoDictFormatNdisplay.py'\n",
       "49. 'README.md'\n",
       "50. 'restSnippet.py'\n",
       "51. 'sampleComputerGroup.bes'\n",
       "52. 'sampleComputerGroup.xml'\n",
       "53. 'SCAexamples'\n",
       "54. 'ServerAutomationExamples'\n",
       "55. 'SpybotTasks.bes'\n",
       "56. 'SpybotTasks.xml'\n",
       "57. 'startBesGather.xml'\n",
       "58. 'Stop &amp; Start BESGather.bes'\n",
       "59. 'Stop BesGather service.bes'\n",
       "60. 'stopBesGather.txt'\n",
       "61. 'stopBesGather.xml'\n",
       "62. 'stopGather.py'\n",
       "63. 'SUA-InventoryExamples'\n",
       "64. 'target_computer_group.txt'\n",
       "65. 'temPostActionViaRest.py'\n",
       "66. 'temPostInvokeProvisioning.py'\n",
       "67. 'temPostInvokeProvisioning2.py'\n",
       "68. 'testPostGroup.xml'\n",
       "69. 'testPostParameter.py'\n",
       "70. 'testPostParameter.xml'\n",
       "71. 'tokenFile.txt'\n",
       "72. 'TweedleDee.bes'\n",
       "73. 'Untitled.ipynb'\n",
       "\n",
       "\n"
      ],
      "text/plain": [
       " [1] \".DS_Store\"                                                                                                \n",
       " [2] \".git\"                                                                                                     \n",
       " [3] \".idea\"                                                                                                    \n",
       " [4] \".ipynb_checkpoints\"                                                                                       \n",
       " [5] \"baseline_template.bes\"                                                                                    \n",
       " [6] \"baselineActionReport.bes\"                                                                                 \n",
       " [7] \"bfClientSetting\"                                                                                          \n",
       " [8] \"completedBaseline.bes\"                                                                                    \n",
       " [9] \"configNquery\"                                                                                             \n",
       "[10] \"createComputerGroup.py\"                                                                                   \n",
       "[11] \"createComputerGroup2.py\"                                                                                  \n",
       "[12] \"credentials.json\"                                                                                         \n",
       "[13] \"cycleGather.py\"                                                                                           \n",
       "[14] \"cycleGather.xml\"                                                                                          \n",
       "[15] \"doc\"                                                                                                      \n",
       "[16] \"executeActionList4IEM.py\"                                                                                 \n",
       "[17] \"file.xml\"                                                                                                 \n",
       "[18] \"fixedFixlets.txt\"                                                                                         \n",
       "[19] \"getAssetsNCheckinTime.py\"                                                                                 \n",
       "[20] \"getFixlets2DictUrllib3.py\"                                                                                \n",
       "[21] \"getFixletsRest.py\"                                                                                        \n",
       "[22] \"getFixletsRest2File.py\"                                                                                   \n",
       "[23] \"getFixletsRest2File2.py\"                                                                                  \n",
       "[24] \"getFixletsRestAdonix.py\"                                                                                  \n",
       "[25] \"getFixletsRestAdonixUrllib.py\"                                                                            \n",
       "[26] \"getFixletsRestGrass.py\"                                                                                   \n",
       "[27] \"Grasskeet-CriticalVulns-baseline.bes\"                                                                     \n",
       "[28] \"importTweedleDeeFixlet.py\"                                                                                \n",
       "[29] \"importTweedleDeeFixlet3.py\"                                                                               \n",
       "[30] \"invokeBesProvisioning.xml\"                                                                                \n",
       "[31] \"InvokeFixletRestViaPython.docx\"                                                                           \n",
       "[32] \"InvokeFixletRestViaPython.pdf\"                                                                            \n",
       "[33] \"InvokeFixletRestViaPython2.pdf\"                                                                           \n",
       "[34] \"Li3000.txt\"                                                                                               \n",
       "[35] \"MasterSite_FixletA.bes\"                                                                                   \n",
       "[36] \"MasterSite_FixletB.bes\"                                                                                   \n",
       "[37] \"MS11-092_ Vulnerability in Windows Media Could Allow Remote Code Execution - Windows 7 Gold_SP1 (x64).bes\"\n",
       "[38] \"multiActionRestRequest.txt\"                                                                               \n",
       "[39] \"namesXML.txt\"                                                                                             \n",
       "[40] \"nHTTP.rb\"                                                                                                 \n",
       "[41] \"origTemRest.py\"                                                                                           \n",
       "[42] \"OtherImportedLibraryStuff\"                                                                                \n",
       "[43] \"postExample.txt\"                                                                                          \n",
       "[44] \"protoComputerGroup.xml\"                                                                                   \n",
       "[45] \"raw_group.txt\"                                                                                            \n",
       "[46] \"readConfigFmR\"                                                                                            \n",
       "[47] \"readFile2String.py\"                                                                                       \n",
       "[48] \"readFixletsIntoDictFormatNdisplay.py\"                                                                     \n",
       "[49] \"README.md\"                                                                                                \n",
       "[50] \"restSnippet.py\"                                                                                           \n",
       "[51] \"sampleComputerGroup.bes\"                                                                                  \n",
       "[52] \"sampleComputerGroup.xml\"                                                                                  \n",
       "[53] \"SCAexamples\"                                                                                              \n",
       "[54] \"ServerAutomationExamples\"                                                                                 \n",
       "[55] \"SpybotTasks.bes\"                                                                                          \n",
       "[56] \"SpybotTasks.xml\"                                                                                          \n",
       "[57] \"startBesGather.xml\"                                                                                       \n",
       "[58] \"Stop & Start BESGather.bes\"                                                                               \n",
       "[59] \"Stop BesGather service.bes\"                                                                               \n",
       "[60] \"stopBesGather.txt\"                                                                                        \n",
       "[61] \"stopBesGather.xml\"                                                                                        \n",
       "[62] \"stopGather.py\"                                                                                            \n",
       "[63] \"SUA-InventoryExamples\"                                                                                    \n",
       "[64] \"target_computer_group.txt\"                                                                                \n",
       "[65] \"temPostActionViaRest.py\"                                                                                  \n",
       "[66] \"temPostInvokeProvisioning.py\"                                                                             \n",
       "[67] \"temPostInvokeProvisioning2.py\"                                                                            \n",
       "[68] \"testPostGroup.xml\"                                                                                        \n",
       "[69] \"testPostParameter.py\"                                                                                     \n",
       "[70] \"testPostParameter.xml\"                                                                                    \n",
       "[71] \"tokenFile.txt\"                                                                                            \n",
       "[72] \"TweedleDee.bes\"                                                                                           \n",
       "[73] \"Untitled.ipynb\"                                                                                           "
      ]
     },
     "metadata": {},
     "output_type": "display_data"
    }
   ],
   "source": [
    "os <- import(\"os\")\n",
    "os$listdir(\"..\")"
   ]
  },
  {
   "cell_type": "code",
   "execution_count": 37,
   "metadata": {
    "ExecuteTime": {
     "end_time": "2018-07-16T14:47:39.786740Z",
     "start_time": "2018-07-16T14:47:39.657Z"
    }
   },
   "outputs": [
    {
     "name": "stderr",
     "output_type": "stream",
     "text": [
      "Python 3.6.4 (/anaconda3/bin/python)\n",
      "Reticulate 1.9 REPL -- A Python interpreter in R.\n"
     ]
    },
    {
     "name": "stdout",
     "output_type": "stream",
     "text": [
      "exit\n",
      "[1] \"hello, there\"\n"
     ]
    }
   ],
   "source": [
    "repl_python(); print(\"hello, there\")"
   ]
  },
  {
   "cell_type": "code",
   "execution_count": 38,
   "metadata": {
    "ExecuteTime": {
     "end_time": "2018-07-16T14:50:36.999005Z",
     "start_time": "2018-07-16T14:50:36.916Z"
    }
   },
   "outputs": [
    {
     "data": {
      "text/html": [
       "20"
      ],
      "text/latex": [
       "20"
      ],
      "text/markdown": [
       "20"
      ],
      "text/plain": [
       "[1] 20"
      ]
     },
     "metadata": {},
     "output_type": "display_data"
    }
   ],
   "source": [
    "source_python(\"add.py\")\n",
    "add(4,16)"
   ]
  },
  {
   "cell_type": "code",
   "execution_count": 58,
   "metadata": {
    "ExecuteTime": {
     "end_time": "2018-07-16T15:11:13.641794Z",
     "start_time": "2018-07-16T15:11:13.122Z"
    }
   },
   "outputs": [
    {
     "name": "stdout",
     "output_type": "stream",
     "text": [
      "[1] \"character\"\n",
      "[1] \"<?xml version=\\\"1.0\\\" encoding=\\\"UTF-8\\\"?>\\n<BESAPI xmlns:xsi=\\\"http://www.w3.org/2001/XMLSchema-instance\\\" xsi:noNamespaceSchemaLocation=\\\"BESAPI.xsd\\\">\\n\\t<Query Resource=\\\"names whose(it as lowercase contains &quot;adhay&quot;) of bes computers\\\">\\n\\t\\t<Result>\\n\\t\\t\\t<Answer type=\\\"string\\\">ADHAYGAP21</Answer>\\n\\t\\t\\t<Answer type=\\\"string\\\">ADHAYVCR01</Answer>\\n\\t\\t\\t<Answer type=\\\"string\\\">ADHAYFDB01</Answer>\\n\\t\\t\\t<Answer type=\\\"string\\\">ADHAYMCS01N1</Answer>\\n\\t\\t\\t<Answer type=\\\"string\\\">ADHAYGAP16</Answer>\\n\\t\\t\\t<Answer type=\\\"string\\\">ADHAYWEB08</Answer>\\n\\t\\t\\t<Answer type=\\\"string\\\">ADHAYFIM01</Answer>\\n\\t\\t\\t<Answer type=\\\"string\\\">ADHAYWEB34</Answer>\\n\\t\\t\\t<Answer type=\\\"string\\\">ADHAYDBP35</Answer>\\n\\t\\t\\t<Answer type=\\\"string\\\">ADHAYWEB16</Answer>\\n\\t\\t\\t<Answer type=\\\"string\\\">ADHAYWEB37</Answer>\\n\\t\\t\\t<Answer type=\\\"string\\\">ADHAYGAP03</Answer>\\n\\t\\t\\t<Answer type=\\\"string\\\">ADHAYGAP24</Answer>\\n\\t\\t\\t<Answer type=\\\"string\\\">ADHAYGAP73</Answer>\\n\\t\\t\\t<Answer type=\\\"string\\\">ADHAYWEB43</Answer>\\n\\t\\t\\t<Answer type=\\\"string\\\">ADHAYGAP43</Answer>\\n\\t\\t\\t<Answer type=\\\"string\\\">ADHAYGAP29</Answer>\\n\\t\\t\\t<Answer type=\\\"string\\\">ADHAYGAP44</Answer>\\n\\t\\t\\t<Answer type=\\\"string\\\">ADHAYFNP03</Answer>\\n\\t\\t\\t<Answer type=\\\"string\\\">ADHAYWEB29</Answer>\\n\\t\\t\\t<Answer type=\\\"string\\\">ADHAYGAP84</Answer>\\n\\t\\t\\t<Answer type=\\\"string\\\">ADHAYDBP03</Answer>\\n\\t\\t\\t<Answer type=\\\"string\\\">ADHAYGAP19</Answer>\\n\\t\\t\\t<Answer type=\\\"string\\\">ADHAYFTP01</Answer>\\n\\t\\t\\t<Answer type=\\\"string\\\">ADHAYWEB44</Answer>\\n\\t\\t\\t<Answer type=\\\"string\\\">ADHAYGAP28</Answer>\\n\\t\\t\\t<Answer type=\\\"string\\\">ADHAYGAP46</Answer>\\n\\t\\t\\t<Answer type=\\\"string\\\">ADHAYMCS01N2</Answer>\\n\\t\\t\\t<Answer type=\\\"string\\\">ADHAYGAP11</Answer>\\n\\t\\t\\t<Answer type=\\\"string\\\">ADHAYDBP24</Answer>\\n\\t\\t\\t<Answer type=\\\"string\\\">ADHAYDBP40</Answer>\\n\\t\\t\\t<Answer type=\\\"string\\\">ADHAYDBP14</Answer>\\n\\t\\t\\t<Answer type=\\\"string\\\">ADHAYGAP64</Answer>\\n\\t\\t\\t<Answer type=\\\"string\\\">ADHAYDCS02</Answer>\\n\\t\\t\\t<Answer type=\\\"string\\\">ADHAYGAP26</Answer>\\n\\t\\t\\t<Answer type=\\\"string\\\">ADHAYGAP71</Answer>\\n\\t\\t\\t<Answer type=\\\"string\\\">ADHAYTEM03</Answer>\\n\\t\\t\\t<Answer type=\\\"string\\\">ADHAYDBP02</Answer>\\n\\t\\t\\t<Answer type=\\\"string\\\">ADHAYGAP33</Answer>\\n\\t\\t\\t<Answer type=\\\"string\\\">ADHAYGAP41</Answer>\\n\\t\\t\\t<Answer type=\\\"string\\\">ADHAYGAP01</Answer>\\n\\t\\t\\t<Answer type=\\\"string\\\">ADHAYDBP31</Answer>\\n\\t\\t\\t<Answer type=\\\"string\\\">ADHAYWEB18</Answer>\\n\\t\\t\\t<Answer type=\\\"string\\\">ADHAYVCN02</Answer>\\n\\t\\t\\t<Answer type=\\\"string\\\">ADHAYDBP38</Answer>\\n\\t\\t\\t<Answer type=\\\"string\\\">ADHAYWEB11</Answer>\\n\\t\\t\\t<Answer type=\\\"string\\\">ADHAYGAP37</Answer>\\n\\t\\t\\t<Answer type=\\\"string\\\">ADHAYGAP32</Answer>\\n\\t\\t\\t<Answer type=\\\"string\\\">ADHAYGAP30</Answer>\\n\\t\\t\\t<Answer type=\\\"string\\\">ADHAYADFS01</Answer>\\n\\t\\t\\t<Answer type=\\\"string\\\">ADHAYGAP23</Answer>\\n\\t\\t\\t<Answer type=\\\"string\\\">ADHAYWEB28</Answer>\\n\\t\\t\\t<Answer type=\\\"string\\\">ADHAYGAP15</Answer>\\n\\t\\t\\t<Answer type=\\\"string\\\">ADHAYDBP41</Answer>\\n\\t\\t\\t<Answer type=\\\"string\\\">ADHAYGAP06</Answer>\\n\\t\\t\\t<Answer type=\\\"string\\\">ADHAYGAP05</Answer>\\n\\t\\t\\t<Answer type=\\\"string\\\">ADHAYWEB30</Answer>\\n\\t\\t\\t<Answer type=\\\"string\\\">ADHAYWEB35</Answer>\\n\\t\\t\\t<Answer type=\\\"string\\\">ADHAYGAP22</Answer>\\n\\t\\t\\t<Answer type=\\\"string\\\">ADHAYDBP43</Answer>\\n\\t\\t\\t<Answer type=\\\"string\\\">ADHAYGAP07</Answer>\\n\\t\\t\\t<Answer type=\\\"string\\\">ADHAYWEB02</Answer>\\n\\t\\t\\t<Answer type=\\\"string\\\">ADHAYDCS05</Answer>\\n\\t\\t\\t<Answer type=\\\"string\\\">ADHAYWEB27</Answer>\\n\\t\\t\\t<Answer type=\\\"string\\\">ADHAYWEB07</Answer>\\n\\t\\t\\t<Answer type=\\\"string\\\">ADHAYDBP18</Answer>\\n\\t\\t\\t<Answer type=\\\"string\\\">ADHAYFNP05</Answer>\\n\\t\\t\\t<Answer type=\\\"string\\\">ADHAYBFR01</Answer>\\n\\t\\t\\t<Answer type=\\\"string\\\">ADHAYFIM02</Answer>\\n\\t\\t\\t<Answer type=\\\"string\\\">ADHAYDBP25</Answer>\\n\\t\\t\\t<Answer type=\\\"string\\\">ADHAYDBP22</Answer>\\n\\t\\t\\t<Answer type=\\\"string\\\">ADHAYGAP67</Answer>\\n\\t\\t\\t<Answer type=\\\"string\\\">ADHAYGAP49</Answer>\\n\\t\\t\\t<Answer type=\\\"string\\\">ADHAYVCN01</Answer>\\n\\t\\t\\t<Answer type=\\\"string\\\">ADHAYGAP35</Answer>\\n\\t\\t\\t<Answer type=\\\"string\\\">ADHAYGAP61</Answer>\\n\\t\\t\\t<Answer type=\\\"string\\\">ADHAYVDI07</Answer>\\n\\t\\t\\t<Answer type=\\\"string\\\">ADHAYGAP75</Answer>\\n\\t\\t\\t<Answer type=\\\"string\\\">ADHAYTEM04</Answer>\\n\\t\\t\\t<Answer type=\\\"string\\\">ADHAYGAP10</Answer>\\n\\t\\t\\t<Answer type=\\\"string\\\">ADHAYGAP69</Answer>\\n\\t\\t\\t<Answer type=\\\"string\\\">ADHAYTEM05</Answer>\\n\\t\\t\\t<Answer type=\\\"string\\\">ADHAYDBP39</Answer>\\n\\t\\t\\t<Answer type=\\\"string\\\">ADHAYGAP42</Answer>\\n\\t\\t\\t<Answer type=\\\"string\\\">ADHAYGAP77</Answer>\\n\\t\\t\\t<Answer type=\\\"string\\\">ADHAYDBP45</Answer>\\n\\t\\t\\t<Answer type=\\\"string\\\">ADHAYDBP11</Answer>\\n\\t\\t\\t<Answer type=\\\"string\\\">ADHAYGAP72</Answer>\\n\\t\\t\\t<Answer type=\\\"string\\\">ADHAYGAP83</Answer>\\n\\t\\t\\t<Answer type=\\\"string\\\">ADHAYGAP25</Answer>\\n\\t\\t\\t<Answer type=\\\"string\\\">ADHAYGAP27</Answer>\\n\\t\\t\\t<Answer type=\\\"string\\\">ADHAYWEB17</Answer>\\n\\t\\t\\t<Answer type=\\\"string\\\">ADHAYGAP54</Answer>\\n\\t\\t\\t<Answer type=\\\"string\\\">ADHAYFNP04</Answer>\\n\\t\\t\\t<Answer type=\\\"string\\\">ADHAYVUM01</Answer>\\n\\t\\t\\t<Answer type=\\\"string\\\">ADHAYDBP21</Answer>\\n\\t\\t\\t<Answer type=\\\"string\\\">ADHAYDBP23</Answer>\\n\\t\\t\\t<Answer type=\\\"string\\\">ADHAYWEB04</Answer>\\n\\t\\t\\t<Answer type=\\\"string\\\">ADHAYSPW01</Answer>\\n\\t\\t\\t<Answer type=\\\"string\\\">ADHAYBFR02</Answer>\\n\\t\\t\\t<Answer type=\\\"string\\\">ADHAYGAP38</Answer>\\n\\t\\t\\t<Answer type=\\\"string\\\">ADHAYGAP82</Answer>\\n\\t\\t\\t<Answer type=\\\"string\\\">ADHAYGAP17</Answer>\\n\\t\\t\\t<Answer type=\\\"string\\\">ADHAYGAP08</Answer>\\n\\t\\t\\t<Answer type=\\\"string\\\">ADHAYGAP86</Answer>\\n\\t\\t\\t<Answer type=\\\"string\\\">ADHAYDCS04</Answer>\\n\\t\\t\\t<Answer type=\\\"string\\\">ADHAYGAP39</Answer>\\n\\t\\t\\t<Answer type=\\\"string\\\">ADHAYVCN04</Answer>\\n\\t\\t\\t<Answer type=\\\"string\\\">ADHAYGAP09</Answer>\\n\\t\\t\\t<Answer type=\\\"string\\\">ADHAYDBP44</Answer>\\n\\t\\t\\t<Answer type=\\\"string\\\">ADHAYDBP37</Answer>\\n\\t\\t\\t<Answer type=\\\"string\\\">ADHAYGAP81</Answer>\\n\\t\\t\\t<Answer type=\\\"string\\\">ADHAYVCN03</Answer>\\n\\t\\t\\t<Answer type=\\\"string\\\">ADHAYGAP80</Answer>\\n\\t\\t\\t<Answer type=\\\"string\\\">ADHAYGAP31</Answer>\\n\\t\\t\\t<Answer type=\\\"string\\\">ADHAYGAP02</Answer>\\n\\t\\t\\t<Answer type=\\\"string\\\">ADHAYGAP13</Answer>\\n\\t\\t\\t<Answer type=\\\"string\\\">ADHAYSUS01</Answer>\\n\\t\\t\\t<Answer type=\\\"string\\\">ADHAYWEB36</Answer>\\n\\t\\t\\t<Answer type=\\\"string\\\">ADHAYWEB05</Answer>\\n\\t\\t\\t<Answer type=\\\"string\\\">ADHAYDBP20</Answer>\\n\\t\\t\\t<Answer type=\\\"string\\\">ADHAYWEB15</Answer>\\n\\t\\t\\t<Answer type=\\\"string\\\">ADHAYGAP63</Answer>\\n\\t\\t\\t<Answer type=\\\"string\\\">ADHAYTEM01</Answer>\\n\\t\\t\\t<Answer type=\\\"string\\\">ADHAYGAP78</Answer>\\n\\t\\t\\t<Answer type=\\\"string\\\">ADHAYSDB01</Answer>\\n\\t\\t\\t<Answer type=\\\"string\\\">ADHAYDBP32</Answer>\\n\\t\\t\\t<Answer type=\\\"string\\\">ADHAYGAP34</Answer>\\n\\t\\t\\t<Answer type=\\\"string\\\">ADHAYGAP18</Answer>\\n\\t\\t\\t<Answer type=\\\"string\\\">ADHAYDBP06</Answer>\\n\\t\\t\\t<Answer type=\\\"string\\\">ADHAYGAP04</Answer>\\n\\t\\t\\t<Answer type=\\\"string\\\">ADHAYDBP30</Answer>\\n\\t\\t\\t<Answer type=\\\"string\\\">ADHAYGAP20</Answer>\\n\\t\\t\\t<Answer type=\\\"string\\\">ADHAYWEB31</Answer>\\n\\t\\t\\t<Answer type=\\\"string\\\">ADHAYGAP76</Answer>\\n\\t\\t\\t<Answer type=\\\"string\\\">ADHAYGAP47</Answer>\\n\\t\\t\\t<Answer type=\\\"string\\\">ADHAYTEM02</Answer>\\n\\t\\t\\t<Answer type=\\\"string\\\">ADHAYDCS01</Answer>\\n\\t\\t\\t<Answer type=\\\"string\\\">ADHAYDBP42</Answer>\\n\\t\\t\\t<Answer type=\\\"string\\\">ADHAYGAP74</Answer>\\n\\t\\t\\t<Answer type=\\\"string\\\">ADHAYWEB40</Answer>\\n\\t\\t\\t<Answer type=\\\"string\\\">ADHAYWEB39</Answer>\\n\\t\\t\\t<Answer type=\\\"string\\\">ADHAYGAP79</Answer>\\n\\t\\t\\t<Answer type=\\\"string\\\">ADHAYTEM0A</Answer>\\n\\t\\t</Result>\\n\\t\\t<Evaluation>\\n\\t\\t\\t<Time>30.875ms</Time>\\n\\t\\t\\t<Plurality>Plural</Plurality>\\n\\t\\t</Evaluation>\\n\\t</Query>\\n</BESAPI>\\n\"\n"
     ]
    }
   ],
   "source": [
    "myCfg<-readConfig(rCfg)\n",
    "newRelevance<-\"names whose(it as lowercase contains %22adhay%22) of bes computers\"\n",
    "result<-queryViaRelevance(myCfg,newRelevance)\n",
    "print(result)"
   ]
  },
  {
   "cell_type": "code",
   "execution_count": null,
   "metadata": {},
   "outputs": [],
   "source": []
  }
 ],
 "metadata": {
  "kernelspec": {
   "display_name": "R",
   "language": "R",
   "name": "ir"
  },
  "language_info": {
   "codemirror_mode": "r",
   "file_extension": ".r",
   "mimetype": "text/x-r-source",
   "name": "R",
   "pygments_lexer": "r",
   "version": "3.4.3"
  }
 },
 "nbformat": 4,
 "nbformat_minor": 2
}
